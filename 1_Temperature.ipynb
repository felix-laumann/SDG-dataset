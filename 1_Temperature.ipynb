{
 "cells": [
  {
   "cell_type": "markdown",
   "metadata": {},
   "source": [
    "# Temperature data per country\n",
    "\n",
    "Monthly temperature data for countries comes from the [World Bank](https://climateknowledgeportal.worldbank.org/download-data)."
   ]
  },
  {
   "cell_type": "code",
   "execution_count": 1,
   "metadata": {},
   "outputs": [],
   "source": [
    "import numpy as np\n",
    "import pickle\n",
    "import pandas as pd\n",
    "import os\n",
    "from sklearn import preprocessing as pre\n",
    "\n",
    "import matplotlib.pyplot as plt\n",
    "import seaborn as sns\n",
    "\n",
    "import warnings\n",
    "warnings.filterwarnings('ignore')"
   ]
  },
  {
   "cell_type": "code",
   "execution_count": 20,
   "metadata": {},
   "outputs": [
    {
     "data": {
      "text/html": [
       "<div>\n",
       "<style scoped>\n",
       "    .dataframe tbody tr th:only-of-type {\n",
       "        vertical-align: middle;\n",
       "    }\n",
       "\n",
       "    .dataframe tbody tr th {\n",
       "        vertical-align: top;\n",
       "    }\n",
       "\n",
       "    .dataframe thead th {\n",
       "        text-align: right;\n",
       "    }\n",
       "</style>\n",
       "<table border=\"1\" class=\"dataframe\">\n",
       "  <thead>\n",
       "    <tr style=\"text-align: right;\">\n",
       "      <th></th>\n",
       "      <th>Temperature - (Celsius)</th>\n",
       "      <th>Year</th>\n",
       "      <th>Statistics</th>\n",
       "      <th>Country</th>\n",
       "    </tr>\n",
       "  </thead>\n",
       "  <tbody>\n",
       "    <tr>\n",
       "      <td>61147</td>\n",
       "      <td>18.7555</td>\n",
       "      <td>2016</td>\n",
       "      <td>Aug Average</td>\n",
       "      <td>Zimbabwe</td>\n",
       "    </tr>\n",
       "    <tr>\n",
       "      <td>61148</td>\n",
       "      <td>22.9919</td>\n",
       "      <td>2016</td>\n",
       "      <td>Sep Average</td>\n",
       "      <td>Zimbabwe</td>\n",
       "    </tr>\n",
       "    <tr>\n",
       "      <td>61149</td>\n",
       "      <td>25.8664</td>\n",
       "      <td>2016</td>\n",
       "      <td>Oct Average</td>\n",
       "      <td>Zimbabwe</td>\n",
       "    </tr>\n",
       "    <tr>\n",
       "      <td>61150</td>\n",
       "      <td>25.8515</td>\n",
       "      <td>2016</td>\n",
       "      <td>Nov Average</td>\n",
       "      <td>Zimbabwe</td>\n",
       "    </tr>\n",
       "    <tr>\n",
       "      <td>61151</td>\n",
       "      <td>25.0693</td>\n",
       "      <td>2016</td>\n",
       "      <td>Dec Average</td>\n",
       "      <td>Zimbabwe</td>\n",
       "    </tr>\n",
       "  </tbody>\n",
       "</table>\n",
       "</div>"
      ],
      "text/plain": [
       "      Temperature - (Celsius)  Year   Statistics   Country\n",
       "61147                 18.7555  2016  Aug Average  Zimbabwe\n",
       "61148                 22.9919  2016  Sep Average  Zimbabwe\n",
       "61149                 25.8664  2016  Oct Average  Zimbabwe\n",
       "61150                 25.8515  2016  Nov Average  Zimbabwe\n",
       "61151                 25.0693  2016  Dec Average  Zimbabwe"
      ]
     },
     "execution_count": 20,
     "metadata": {},
     "output_type": "execute_result"
    }
   ],
   "source": [
    "temp = pd.read_csv('utils/data/temp.csv', sep=', ', usecols=range(4), dtype=object)\n",
    "temp.tail()"
   ]
  },
  {
   "cell_type": "code",
   "execution_count": 24,
   "metadata": {},
   "outputs": [],
   "source": [
    "countries = []\n",
    "c = temp.Country.unique()\n",
    "\n",
    "for country in c:\n",
    "    countries.append(country.strip())"
   ]
  },
  {
   "cell_type": "code",
   "execution_count": 26,
   "metadata": {},
   "outputs": [],
   "source": [
    "temp_dict = {}\n",
    "t_dict = {}\n",
    "t_dict_std = {}\n",
    "\n",
    "for country in countries:\n",
    "    temp_dict[country] = temp[temp.Country == country]\n",
    "    temp_dict[country].drop(columns=['Statistics', 'Country'], inplace=True)\n",
    "    t_dict[country] = temp_dict[country].astype(float).groupby('Year')['Temperature - (Celsius)'].mean()\n",
    "    t_dict[country].rename('Temperature', inplace=True)\n",
    "    t_dict_std[country] = pd.Series(index=t_dict[country].index, data=pre.scale(list(t_dict[country])))\n",
    "    t_dict_std[country].rename('Temperature', inplace=True)"
   ]
  },
  {
   "cell_type": "code",
   "execution_count": 27,
   "metadata": {},
   "outputs": [
    {
     "data": {
      "text/plain": [
       "Year\n",
       "1991.0   -2.040162\n",
       "1992.0   -1.035685\n",
       "1993.0   -0.974972\n",
       "1994.0    0.802400\n",
       "1995.0   -1.452880\n",
       "1996.0   -1.805582\n",
       "1997.0   -1.327218\n",
       "1998.0   -0.262997\n",
       "1999.0    0.279129\n",
       "2000.0    0.788818\n",
       "2001.0    0.285842\n",
       "2002.0    0.437547\n",
       "2003.0    0.061019\n",
       "2004.0   -0.424538\n",
       "2005.0   -1.337297\n",
       "2006.0   -0.636711\n",
       "2007.0    0.702137\n",
       "2008.0    0.943248\n",
       "2009.0    0.627456\n",
       "2010.0    0.542144\n",
       "2011.0    0.119702\n",
       "2012.0    1.062410\n",
       "2013.0    1.224875\n",
       "2014.0    1.140745\n",
       "2015.0    1.104895\n",
       "2016.0    1.175673\n",
       "Name: Temperature, dtype: float64"
      ]
     },
     "execution_count": 27,
     "metadata": {},
     "output_type": "execute_result"
    }
   ],
   "source": [
    "# check\n",
    "t_dict_std['Albania']"
   ]
  },
  {
   "cell_type": "code",
   "execution_count": 28,
   "metadata": {},
   "outputs": [],
   "source": [
    "# better save this precious data\n",
    "t = open('utils/data/temp.pkl', 'wb')\n",
    "pickle.dump(t_dict_std, t)\n",
    "t.close()"
   ]
  },
  {
   "cell_type": "code",
   "execution_count": null,
   "metadata": {},
   "outputs": [],
   "source": []
  }
 ],
 "metadata": {
  "kernelspec": {
   "display_name": "Python 3",
   "language": "python",
   "name": "python3"
  },
  "language_info": {
   "codemirror_mode": {
    "name": "ipython",
    "version": 3
   },
   "file_extension": ".py",
   "mimetype": "text/x-python",
   "name": "python",
   "nbconvert_exporter": "python",
   "pygments_lexer": "ipython3",
   "version": "3.7.4"
  }
 },
 "nbformat": 4,
 "nbformat_minor": 2
}
