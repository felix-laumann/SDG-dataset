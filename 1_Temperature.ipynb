{
 "cells": [
  {
   "cell_type": "markdown",
   "metadata": {},
   "source": [
    "# Temperature data per country"
   ]
  },
  {
   "cell_type": "code",
   "execution_count": null,
   "metadata": {},
   "outputs": [],
   "source": [
    "import numpy as np\n",
    "import pickle\n",
    "import pandas as pd\n",
    "import os\n",
    "from sklearn.preprocessing import scale"
   ]
  },
  {
   "cell_type": "markdown",
   "metadata": {},
   "source": [
    "# Using CRU dataset"
   ]
  },
  {
   "cell_type": "code",
   "execution_count": null,
   "metadata": {},
   "outputs": [],
   "source": [
    "c = pd.read_csv('utils/countries_wb.csv', dtype=str, delimiter=';', header=None)\n",
    "countries = list(c[0])"
   ]
  },
  {
   "cell_type": "code",
   "execution_count": null,
   "metadata": {},
   "outputs": [],
   "source": [
    "countries_monthly = {}\n",
    "\n",
    "for country in countries:\n",
    "    for file in os.listdir('utils/data/temp_country/'):\n",
    "        if country in file:\n",
    "            countries_monthly[country] = pd.read_csv('utils/data/temp_country/{}'.format(file), header=3, delimiter='    ', engine='python')"
   ]
  },
  {
   "cell_type": "code",
   "execution_count": null,
   "metadata": {},
   "outputs": [],
   "source": [
    "# we do not have temperature data for these countries\n",
    "\n",
    "not_included = []\n",
    "\n",
    "for country in countries:\n",
    "    if country not in list(countries_monthly.keys()):\n",
    "        not_included.append(country)"
   ]
  },
  {
   "cell_type": "code",
   "execution_count": null,
   "metadata": {},
   "outputs": [],
   "source": [
    "not_included"
   ]
  },
  {
   "cell_type": "code",
   "execution_count": null,
   "metadata": {
    "scrolled": true
   },
   "outputs": [],
   "source": [
    "for country, df in countries_monthly.items():\n",
    "    df.columns = df.columns.str.replace(' ', '')\n",
    "    #countries_monthly[country].drop(labels=['MAM', 'JJA', 'SON', 'DJF', 'ANN'], axis=1, inplace=True)\n",
    "    months = df.loc[:, 'JAN':'DEC']\n",
    "    countries_monthly[country]['AVG'] = months.mean(axis=1)"
   ]
  },
  {
   "cell_type": "code",
   "execution_count": null,
   "metadata": {},
   "outputs": [],
   "source": [
    "# check\n",
    "countries_monthly['Italy']"
   ]
  },
  {
   "cell_type": "code",
   "execution_count": null,
   "metadata": {},
   "outputs": [],
   "source": [
    "# better save this precious data\n",
    "t = open('utils/data/temp.pkl', 'wb')\n",
    "pickle.dump(countries_monthly, t)\n",
    "t.close()"
   ]
  },
  {
   "cell_type": "code",
   "execution_count": null,
   "metadata": {},
   "outputs": [],
   "source": []
  },
  {
   "cell_type": "markdown",
   "metadata": {},
   "source": [
    "## *old:* Data until 2016\n",
    "\n",
    "Monthly temperature data for countries comes from the [World Bank](https://climateknowledgeportal.worldbank.org/download-data)"
   ]
  },
  {
   "cell_type": "code",
   "execution_count": null,
   "metadata": {},
   "outputs": [],
   "source": [
    "temp = pd.read_csv('utils/data/temp.csv', sep=', ', usecols=range(4), dtype=object)\n",
    "temp.tail()"
   ]
  },
  {
   "cell_type": "code",
   "execution_count": null,
   "metadata": {},
   "outputs": [],
   "source": [
    "countries = []\n",
    "c = temp.Country.unique()\n",
    "\n",
    "for country in c:\n",
    "    countries.append(country.strip())"
   ]
  },
  {
   "cell_type": "code",
   "execution_count": null,
   "metadata": {},
   "outputs": [],
   "source": [
    "temp_dict = {}\n",
    "t_dict = {}\n",
    "t_dict_std = {}\n",
    "\n",
    "for country in countries:\n",
    "    temp_dict[country] = temp[temp.Country == country]\n",
    "    temp_dict[country].drop(columns=['Statistics', 'Country'], inplace=True)\n",
    "    t_dict[country] = temp_dict[country].astype(float).groupby('Year')['Temperature - (Celsius)'].mean()\n",
    "    t_dict[country].rename('Temperature', inplace=True)\n",
    "    t_dict_std[country] = pd.Series(index=t_dict[country].index, data=scale(list(t_dict[country])))\n",
    "    t_dict_std[country].rename('Temperature', inplace=True)"
   ]
  },
  {
   "cell_type": "code",
   "execution_count": null,
   "metadata": {
    "scrolled": true
   },
   "outputs": [],
   "source": [
    "# check\n",
    "t_dict_std['Albania']"
   ]
  }
 ],
 "metadata": {
  "kernelspec": {
   "display_name": "Python 3.7 - Spark (local)",
   "language": "python",
   "name": "spark-3-python"
  },
  "language_info": {
   "codemirror_mode": {
    "name": "ipython",
    "version": 3
   },
   "file_extension": ".py",
   "mimetype": "text/x-python",
   "name": "python",
   "nbconvert_exporter": "python",
   "pygments_lexer": "ipython3",
   "version": "3.7.7"
  }
 },
 "nbformat": 4,
 "nbformat_minor": 2
}
